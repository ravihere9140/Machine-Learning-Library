{
 "cells": [
  {
   "cell_type": "code",
   "execution_count": 1,
   "id": "13549162",
   "metadata": {},
   "outputs": [],
   "source": [
    "import numpy as np\n",
    "import pandas as pd\n",
    "import matplotlib.pyplot as plt\n",
    "import random"
   ]
  },
  {
   "cell_type": "markdown",
   "id": "da6425a3",
   "metadata": {},
   "source": [
    "# Functions"
   ]
  },
  {
   "cell_type": "code",
   "execution_count": 2,
   "id": "f3f68f65",
   "metadata": {},
   "outputs": [],
   "source": [
    "#assign cluster\n",
    "#move centroids\n",
    "#check for finish\n",
    "def centroids(x,k):\n",
    "    random_index=random.sample(range(0,x.shape[0]),k)\n",
    "    centroids=x[random_index]\n",
    "    return centroids"
   ]
  },
  {
   "cell_type": "code",
   "execution_count": 3,
   "id": "38b46055",
   "metadata": {},
   "outputs": [],
   "source": [
    "def assign_cluster(x,centroids):\n",
    "    distances=[]\n",
    "    for row in x:\n",
    "        for centroid in centroids:\n",
    "            distance= np.sqrt(np.dot((row-centroid),(row-centroid)))\n",
    "            distances.append(distance)\n",
    "    distances=np.array(distances).reshape(-1,centroids.shape[0])\n",
    "    cluster_group=np.argmin(distances,axis=1)\n",
    "    return (cluster_group)"
   ]
  },
  {
   "cell_type": "code",
   "execution_count": 4,
   "id": "dfcc63aa",
   "metadata": {},
   "outputs": [],
   "source": [
    "def move_centroids(x,cluster_group):\n",
    "    new_centroids=[]\n",
    "    for type in np.unique(cluster_group):\n",
    "        cnt=x[np.where(cluster_group==type)].mean(axis=0)\n",
    "        new_centroids.append(cnt)\n",
    "    return np.array(new_centroids)\n",
    "    "
   ]
  },
  {
   "cell_type": "code",
   "execution_count": 5,
   "id": "036d8c2e",
   "metadata": {},
   "outputs": [],
   "source": [
    "def fit(x,n_cluster,max_iters,centroids,assign_cluster,move_cent):\n",
    "    init_cent=centroids(x,n_cluster)\n",
    "    \n",
    "    cluster_group = []\n",
    "    new_cent = []\n",
    "    new_cent.append(init_cent)\n",
    "    for i in range(max_iters):\n",
    "        cluster_group.append(assign_cluster(x,new_cent[-1]))\n",
    "        new_cent.append(move_cent(x,cluster_group[-1]))\n",
    "        \n",
    "        if (new_cent[-1]==new_cent[-2]).all():\n",
    "            print(f'no.of iteartions:{i+1}') \n",
    "            break\n",
    "    \n",
    "    return new_cent[-1],cluster_group[-1]"
   ]
  },
  {
   "cell_type": "code",
   "execution_count": 6,
   "id": "0799fbc0",
   "metadata": {},
   "outputs": [],
   "source": [
    "def clf(x,c_g):\n",
    "    X=[]\n",
    "    for type in np.unique(c_g):\n",
    "        X.append(x[np.where(c_g==type)])\n",
    "    return X"
   ]
  },
  {
   "cell_type": "code",
   "execution_count": 7,
   "id": "7c3dadea",
   "metadata": {},
   "outputs": [],
   "source": [
    "def z_normalize(x):\n",
    "    mu=np.mean(x,axis=0)\n",
    "    sigma=np.std(x,axis=0)\n",
    "    x_norm=(x-mu)/sigma\n",
    "    return x_norm,mu , sigma"
   ]
  },
  {
   "cell_type": "markdown",
   "id": "b86ec4c3",
   "metadata": {},
   "source": [
    "# Load Data\n"
   ]
  },
  {
   "cell_type": "code",
   "execution_count": 31,
   "id": "24ac1b2f",
   "metadata": {},
   "outputs": [],
   "source": [
    "df=pd.read_csv('Kmean_dataset.csv')\n",
    "x_train=np.array(df)\n",
    "x_norm,mu,sigma=z_normalize(x_train) "
   ]
  },
  {
   "cell_type": "markdown",
   "id": "74268455",
   "metadata": {},
   "source": [
    "# Fit data"
   ]
  },
  {
   "cell_type": "code",
   "execution_count": 32,
   "id": "45b225b6",
   "metadata": {
    "scrolled": false
   },
   "outputs": [
    {
     "name": "stdout",
     "output_type": "stream",
     "text": [
      "no.of iteartions:3\n",
      "final_assigned_cluster:[0 0 0 0 1 0 0 0 0 0 0 0 0 0 0 0 0 0 0 1 1 1 0 0 1 1 0 0 0 0 0 0 0 0 0 0 0\n",
      " 0 0 1 1 0 0 1 0 0 0 0 0 0 0 0 0 0 0 0 0 0 0 1 1 1 1 1 1 1 1 1 1 1 0 1 1 0\n",
      " 0 1 1 1 1 1 1 1 1 1 1 1 1 1 1 1 1 1 1 1 1 0 1 1 1 1 1 1 1 1 1 1 1 1 1 1 1\n",
      " 1 1 1 1 1 1 1 1 1 1 1 1 1 1 1 1 1 1 1 1 1 1 1 1 1 1 1 1 1 1 1 1 1 1 1 1 1\n",
      " 1 1 1 1 1 1 1 1 1 0 1 1 1 1 1 1 1 1 1 1 1 1 1 1 1 1 1 1 1 1]\n"
     ]
    }
   ],
   "source": [
    "n_c,c_g=fit(x_train,2,1000,centroids,assign_cluster,move_centroids)\n",
    "print(f'final_assigned_cluster:{c_g}')"
   ]
  },
  {
   "cell_type": "code",
   "execution_count": 35,
   "id": "1e573a50",
   "metadata": {},
   "outputs": [
    {
     "name": "stdout",
     "output_type": "stream",
     "text": [
      "no.of iteartions:5\n",
      "final_assigned_cluster:[1 1 1 1 1 1 1 1 1 1 1 1 1 1 1 1 1 1 1 1 1 1 1 1 1 1 1 1 1 1 1 1 1 1 1 1 1\n",
      " 1 1 1 1 1 1 1 1 1 1 1 1 1 1 1 1 1 1 1 1 1 1 0 0 2 0 0 0 0 0 0 0 0 0 0 0 1\n",
      " 0 0 0 0 0 0 0 0 0 2 0 0 0 0 0 0 0 0 0 0 0 1 0 0 0 0 0 0 0 0 0 0 0 0 0 0 0\n",
      " 0 0 0 0 0 0 0 2 0 0 1 0 0 0 0 0 0 0 0 2 2 2 2 2 2 2 2 2 2 2 2 2 2 2 2 2 2\n",
      " 2 2 2 2 2 2 2 2 2 2 2 2 2 2 2 2 2 2 2 2 2 2 2 2 2 2 2 2 2 2]\n"
     ]
    }
   ],
   "source": [
    "n_c_norm,c_g_norm=fit(x_norm,3,1000,centroids,assign_cluster,move_centroids)\n",
    "print(f'final_assigned_cluster:{c_g_norm}')"
   ]
  },
  {
   "cell_type": "code",
   "execution_count": 36,
   "id": "bd33f471",
   "metadata": {
    "scrolled": true
   },
   "outputs": [],
   "source": [
    "X_train=clf(x_train,c_g)\n",
    "X_norm=clf(x_norm,c_g_norm)"
   ]
  },
  {
   "cell_type": "markdown",
   "id": "f6b925c5",
   "metadata": {},
   "source": [
    "# finding elbow"
   ]
  },
  {
   "cell_type": "code",
   "execution_count": 37,
   "id": "32a6447f",
   "metadata": {},
   "outputs": [],
   "source": [
    "def compute_dist(x,x_train):\n",
    "    distance=np.sqrt(np.sum((x-x_train)**2,axis=1))\n",
    "    return np.sum(distance)"
   ]
  },
  {
   "cell_type": "code",
   "execution_count": 38,
   "id": "d5f9bae3",
   "metadata": {},
   "outputs": [],
   "source": [
    "def wcss(x_train,n_c,c_g):\n",
    "    wcss=0\n",
    "    X=clf(x_train,c_g)\n",
    "    for i,j in zip(n_c,X):\n",
    "        wcss+=compute_dist(i,j)\n",
    "    return wcss"
   ]
  },
  {
   "cell_type": "code",
   "execution_count": 39,
   "id": "bc46aed3",
   "metadata": {},
   "outputs": [],
   "source": [
    "def elbow(x_train,max_cluster):\n",
    "    wcss_hist=[]    \n",
    "    for i in range(1,max_cluster):\n",
    "        n_c,c_g=fit(x_train,i,1000,centroids,assign_cluster,move_centroids)\n",
    "        wcss_hist.append(wcss(x_train,n_c,c_g))\n",
    "    for i in range(1,max_cluster-1):\n",
    "        slope=wcss_hist[i-1]-wcss_hist[i]\n",
    "        #print(f'slope{i}:{slope}')\n",
    "    plt.plot(np.arange(1,max_cluster),np.array(wcss_hist)),\n",
    "    plt.scatter(np.arange(1,max_cluster),np.array(wcss_hist))\n",
    "    plt.title('With Normalization')\n",
    "    plt.show()\n",
    "    pass"
   ]
  },
  {
   "cell_type": "code",
   "execution_count": 40,
   "id": "d584ce3e",
   "metadata": {
    "scrolled": false
   },
   "outputs": [
    {
     "name": "stdout",
     "output_type": "stream",
     "text": [
      "no.of iteartions:2\n",
      "no.of iteartions:7\n",
      "no.of iteartions:6\n",
      "no.of iteartions:9\n",
      "no.of iteartions:6\n",
      "no.of iteartions:9\n",
      "no.of iteartions:9\n",
      "no.of iteartions:9\n",
      "no.of iteartions:9\n"
     ]
    },
    {
     "data": {
      "image/png": "[encoded data removed]",
      "text/plain": [
       "<Figure size 640x480 with 1 Axes>"
      ]
     },
     "metadata": {},
     "output_type": "display_data"
    }
   ],
   "source": [
    "elbow(x_norm,10)"
   ]
  },
  {
   "cell_type": "code",
   "execution_count": 41,
   "id": "724acbdb",
   "metadata": {},
   "outputs": [
    {
     "name": "stdout",
     "output_type": "stream",
     "text": [
      "no.of iteartions:2\n",
      "no.of iteartions:9\n",
      "no.of iteartions:8\n",
      "no.of iteartions:6\n",
      "no.of iteartions:13\n",
      "no.of iteartions:4\n",
      "no.of iteartions:9\n",
      "no.of iteartions:7\n",
      "no.of iteartions:9\n"
     ]
    },
    {
     "data": {
      "image/png": "[encoded data removed]",
      "text/plain": [
       "<Figure size 640x480 with 1 Axes>"
      ]
     },
     "metadata": {},
     "output_type": "display_data"
    }
   ],
   "source": [
    "elbow(x_train,10)"
   ]
  },
  {
   "cell_type": "code",
   "execution_count": null,
   "id": "c76a1cdf",
   "metadata": {},
   "outputs": [],
   "source": []
  }
 ],
 "metadata": {
  "kernelspec": {
   "display_name": "Python 3 (ipykernel)",
   "language": "python",
   "name": "python3"
  },
  "language_info": {
   "codemirror_mode": {
    "name": "ipython",
    "version": 3
   },
   "file_extension": ".py",
   "mimetype": "text/x-python",
   "name": "python",
   "nbconvert_exporter": "python",
   "pygments_lexer": "ipython3",
   "version": "3.11.5"
  }
 },
 "nbformat": 4,
 "nbformat_minor": 5
}
