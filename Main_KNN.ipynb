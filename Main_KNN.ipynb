{
 "cells": [
  {
   "cell_type": "code",
   "execution_count": 2,
   "id": "09c15334",
   "metadata": {},
   "outputs": [],
   "source": [
    "import numpy as np\n",
    "import pandas as pd"
   ]
  },
  {
   "cell_type": "markdown",
   "id": "c2e0e475",
   "metadata": {},
   "source": [
    "# Functions"
   ]
  },
  {
   "cell_type": "code",
   "execution_count": 3,
   "id": "8d65fd54",
   "metadata": {},
   "outputs": [],
   "source": [
    "def compute_dist(x,x_train):\n",
    "    distance=np.sqrt(np.sum((x-x_train)**2,axis=1))\n",
    "    return distance"
   ]
  },
  {
   "cell_type": "code",
   "execution_count": 4,
   "id": "84deae8a",
   "metadata": {},
   "outputs": [],
   "source": [
    "def knn(x_train,y_train,k,x):\n",
    "    k_array=[]\n",
    "    for i in range(x.shape[0]):\n",
    "        dist=compute_dist(x[i],x_train)  # x can be a single querry point or can be multiple point\n",
    "        k_array.append(y_train[np.argsort(dist)][:k])\n",
    "        if i%np.ceil(x.shape[0]/40)==0:\n",
    "            print('==',end='')\n",
    "    print('> !!')\n",
    "    return k_array"
   ]
  },
  {
   "cell_type": "code",
   "execution_count": 5,
   "id": "863e566d",
   "metadata": {},
   "outputs": [],
   "source": [
    "def most_freq_element(arr):\n",
    "    uniq=np.unique(arr)\n",
    "    b=[]\n",
    "    for ele in uniq:\n",
    "        c= np.array(np.where(arr==ele)).shape[1]\n",
    "        b.append(c)\n",
    "    freq=np.array(b)\n",
    "    most_freq_ele=uniq[np.argmax(freq)]\n",
    "    return most_freq_ele"
   ]
  },
  {
   "cell_type": "code",
   "execution_count": 6,
   "id": "7c57542d",
   "metadata": {},
   "outputs": [],
   "source": [
    "def assign_class(k_array,x):\n",
    "    y=[]\n",
    "    for i in range(x.shape[0]):\n",
    "        x_class=most_freq_element(k_array[i])\n",
    "        y.append(x_class)\n",
    "    return np.array(y)"
   ]
  },
  {
   "cell_type": "markdown",
   "id": "04c82a87",
   "metadata": {},
   "source": [
    "# Load Data"
   ]
  },
  {
   "cell_type": "code",
   "execution_count": 7,
   "id": "351b7eed",
   "metadata": {},
   "outputs": [],
   "source": [
    "df=pd.read_csv('Classification_train.csv')\n",
    "z=np.array(df.tail(25000))\n",
    "x_train=z[:,1:]/255\n",
    "y_train=z[:,0]\n",
    "cv=np.array(df.head(5000))\n",
    "x_cv=cv[:,1:]/255\n",
    "y_cv=cv[:,0]"
   ]
  },
  {
   "cell_type": "markdown",
   "id": "138f5117",
   "metadata": {},
   "source": [
    "# Run KNN"
   ]
  },
  {
   "cell_type": "code",
   "execution_count": 8,
   "id": "5cb255a8",
   "metadata": {},
   "outputs": [
    {
     "name": "stdout",
     "output_type": "stream",
     "text": [
      "================================================================================> !!\n"
     ]
    }
   ],
   "source": [
    "k_array=(knn(x_train,y_train,7,x_cv))"
   ]
  },
  {
   "cell_type": "code",
   "execution_count": 11,
   "id": "4b054ac2",
   "metadata": {},
   "outputs": [
    {
     "name": "stdout",
     "output_type": "stream",
     "text": [
      "Accuracy_cv:0.9808\n"
     ]
    }
   ],
   "source": [
    "y_predicted=assign_class(k_array,x_cv)\n",
    "accuracy = np.mean(y_cv==y_predicted)\n",
    "print(f'Accuracy_cv:{accuracy}')"
   ]
  },
  {
   "cell_type": "markdown",
   "id": "a9ef0f2c",
   "metadata": {},
   "source": [
    "# Load Test Data"
   ]
  },
  {
   "cell_type": "code",
   "execution_count": 13,
   "id": "302d783a",
   "metadata": {},
   "outputs": [],
   "source": [
    "td=pd.read_csv('Classification_test.csv')\n",
    "td=np.array(td)\n",
    "ID=td[:,0]\n",
    "x_test=td[:,1:]/255"
   ]
  },
  {
   "cell_type": "markdown",
   "id": "935cf51c",
   "metadata": {},
   "source": [
    "# Predicting Y labels for test data"
   ]
  },
  {
   "cell_type": "code",
   "execution_count": 14,
   "id": "a401b704",
   "metadata": {},
   "outputs": [
    {
     "name": "stdout",
     "output_type": "stream",
     "text": [
      "================================================================================> !!\n"
     ]
    }
   ],
   "source": [
    "K_array_test=knn(x_train,y_train,7,x_test)"
   ]
  },
  {
   "cell_type": "code",
   "execution_count": 15,
   "id": "30678013",
   "metadata": {},
   "outputs": [],
   "source": [
    "Y_pred=assign_class(K_array_test,x_test)"
   ]
  },
  {
   "cell_type": "code",
   "execution_count": 32,
   "id": "a6d69d1b",
   "metadata": {},
   "outputs": [],
   "source": [
    "Result=np.c_[ID,Y_pred]\n",
    "Result=pd.DataFrame(Result,columns=['ID','Y_pred'])"
   ]
  },
  {
   "cell_type": "code",
   "execution_count": 33,
   "id": "2ec57307",
   "metadata": {},
   "outputs": [
    {
     "data": {
      "text/html": [
       "<div>\n",
       "<style scoped>\n",
       "    .dataframe tbody tr th:only-of-type {\n",
       "        vertical-align: middle;\n",
       "    }\n",
       "\n",
       "    .dataframe tbody tr th {\n",
       "        vertical-align: top;\n",
       "    }\n",
       "\n",
       "    .dataframe thead th {\n",
       "        text-align: right;\n",
       "    }\n",
       "</style>\n",
       "<table border=\"1\" class=\"dataframe\">\n",
       "  <thead>\n",
       "    <tr style=\"text-align: right;\">\n",
       "      <th></th>\n",
       "      <th>ID</th>\n",
       "      <th>Y_pred</th>\n",
       "    </tr>\n",
       "  </thead>\n",
       "  <tbody>\n",
       "    <tr>\n",
       "      <th>0</th>\n",
       "      <td>15795</td>\n",
       "      <td>0</td>\n",
       "    </tr>\n",
       "    <tr>\n",
       "      <th>1</th>\n",
       "      <td>860</td>\n",
       "      <td>4</td>\n",
       "    </tr>\n",
       "    <tr>\n",
       "      <th>2</th>\n",
       "      <td>5390</td>\n",
       "      <td>5</td>\n",
       "    </tr>\n",
       "    <tr>\n",
       "      <th>3</th>\n",
       "      <td>11964</td>\n",
       "      <td>5</td>\n",
       "    </tr>\n",
       "    <tr>\n",
       "      <th>4</th>\n",
       "      <td>11284</td>\n",
       "      <td>9</td>\n",
       "    </tr>\n",
       "    <tr>\n",
       "      <th>...</th>\n",
       "      <td>...</td>\n",
       "      <td>...</td>\n",
       "    </tr>\n",
       "    <tr>\n",
       "      <th>9995</th>\n",
       "      <td>11260</td>\n",
       "      <td>9</td>\n",
       "    </tr>\n",
       "    <tr>\n",
       "      <th>9996</th>\n",
       "      <td>18563</td>\n",
       "      <td>9</td>\n",
       "    </tr>\n",
       "    <tr>\n",
       "      <th>9997</th>\n",
       "      <td>634</td>\n",
       "      <td>0</td>\n",
       "    </tr>\n",
       "    <tr>\n",
       "      <th>9998</th>\n",
       "      <td>10057</td>\n",
       "      <td>8</td>\n",
       "    </tr>\n",
       "    <tr>\n",
       "      <th>9999</th>\n",
       "      <td>13345</td>\n",
       "      <td>4</td>\n",
       "    </tr>\n",
       "  </tbody>\n",
       "</table>\n",
       "<p>10000 rows × 2 columns</p>\n",
       "</div>"
      ],
      "text/plain": [
       "         ID  Y_pred\n",
       "0     15795       0\n",
       "1       860       4\n",
       "2      5390       5\n",
       "3     11964       5\n",
       "4     11284       9\n",
       "...     ...     ...\n",
       "9995  11260       9\n",
       "9996  18563       9\n",
       "9997    634       0\n",
       "9998  10057       8\n",
       "9999  13345       4\n",
       "\n",
       "[10000 rows x 2 columns]"
      ]
     },
     "execution_count": 33,
     "metadata": {},
     "output_type": "execute_result"
    }
   ],
   "source": [
    "Result"
   ]
  },
  {
   "cell_type": "code",
   "execution_count": 34,
   "id": "c9d6bbb8",
   "metadata": {},
   "outputs": [],
   "source": [
    "Result.to_csv('KNN_test.csv')"
   ]
  }
 ],
 "metadata": {
  "kernelspec": {
   "display_name": "Python 3 (ipykernel)",
   "language": "python",
   "name": "python3"
  },
  "language_info": {
   "codemirror_mode": {
    "name": "ipython",
    "version": 3
   },
   "file_extension": ".py",
   "mimetype": "text/x-python",
   "name": "python",
   "nbconvert_exporter": "python",
   "pygments_lexer": "ipython3",
   "version": "3.11.5"
  }
 },
 "nbformat": 4,
 "nbformat_minor": 5
}
