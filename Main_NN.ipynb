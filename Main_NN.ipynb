{
 "cells": [
  {
   "cell_type": "code",
   "execution_count": 1,
   "id": "ee08a43e",
   "metadata": {},
   "outputs": [],
   "source": [
    "import numpy as np\n",
    "import pandas as pd"
   ]
  },
  {
   "cell_type": "markdown",
   "id": "b335cd55",
   "metadata": {},
   "source": [
    "# Functions"
   ]
  },
  {
   "cell_type": "code",
   "execution_count": 2,
   "id": "772b408d",
   "metadata": {},
   "outputs": [],
   "source": [
    "def relu(z):\n",
    "    return np.maximum(0,z)\n",
    "def relu_prime(z):\n",
    "    return np.array(z>0,dtype='float')\n",
    "\n",
    "def softmax(z):\n",
    "    max_z=np.max(z,axis=0)\n",
    "    z=z-max_z\n",
    "    expZ = np.exp(z)\n",
    "    return expZ/(np.sum(expZ, 0))"
   ]
  },
  {
   "cell_type": "raw",
   "id": "6d596722",
   "metadata": {},
   "source": [
    "#w(k,n)\n",
    "#x(n,m)\n",
    "#y(k,m)\n",
    "#b(k,1)"
   ]
  },
  {
   "cell_type": "code",
   "execution_count": 3,
   "id": "ed307905",
   "metadata": {},
   "outputs": [],
   "source": [
    "def initialize_parameters(layer_dims):\n",
    "    \n",
    "    parameters = {}\n",
    "    L = len(layer_dims)\n",
    "    for l in range(1, L):\n",
    "        parameters['W' + str(l)] = np.random.randn(layer_dims[l], layer_dims[l-1]) /np.sqrt(layer_dims[l-1])\n",
    "        parameters['b' + str(l)] = np.zeros((layer_dims[l], 1))\n",
    "    return parameters"
   ]
  },
  {
   "cell_type": "code",
   "execution_count": 4,
   "id": "930ae42e",
   "metadata": {},
   "outputs": [],
   "source": [
    "def forward_propagation(X, parameters, activation):\n",
    "   \n",
    "    forward_cache = {}\n",
    "    L = len(parameters) // 2                     \n",
    "    forward_cache['A0'] = X\n",
    "\n",
    "    for l in range(1, L):\n",
    "        forward_cache['Z' + str(l)] = parameters['W' + str(l)].dot(forward_cache['A' + str(l-1)]) + parameters['b' + str(l)]\n",
    "        forward_cache['A' + str(l)] = activation(forward_cache['Z' + str(l)])\n",
    "            \n",
    "    forward_cache['Z' + str(L)] = parameters['W' + str(L)].dot(forward_cache['A' + str(L-1)]) + parameters['b' + str(L)]\n",
    "        \n",
    "    forward_cache['A' + str(L)] = softmax(forward_cache['Z' + str(L)])\n",
    "    \n",
    "    return forward_cache['A' + str(L)], forward_cache"
   ]
  },
  {
   "cell_type": "code",
   "execution_count": 5,
   "id": "d4dc5ddf",
   "metadata": {},
   "outputs": [],
   "source": [
    "def compute_cost(AL, Y):\n",
    "    m = Y.shape[1]\n",
    "    epsilon=1e-8\n",
    "    cost = -(1/m) * np.sum(Y * np.log(AL+epsilon))  \n",
    "    return cost"
   ]
  },
  {
   "cell_type": "code",
   "execution_count": 6,
   "id": "4b691767",
   "metadata": {},
   "outputs": [],
   "source": [
    "def backward_propagation(AL, Y, parameters, forward_cache, activation):\n",
    "    \n",
    "    grads = {}\n",
    "    L = len(parameters)//2\n",
    "    m = AL.shape[1]\n",
    "    \n",
    "    grads[\"dZ\" + str(L)] = AL - Y\n",
    "    grads[\"dW\" + str(L)] = 1/m * np.dot(grads[\"dZ\" + str(L)],forward_cache['A' + str(L-1)].T)\n",
    "    grads[\"db\" + str(L)] = 1/m * np.sum(grads[\"dZ\" + str(L)], axis = 1, keepdims = True)\n",
    "    for l in reversed(range(1, L)):    \n",
    "        grads[\"dZ\" + str(l)] = np.dot(parameters['W' + str(l+1)].T,grads[\"dZ\" + str(l+1)])*relu_prime(forward_cache['A' + str(l)])\n",
    "            \n",
    "        grads[\"dW\" + str(l)] = 1/m * np.dot(grads[\"dZ\" + str(l)],forward_cache['A' + str(l-1)].T)\n",
    "        grads[\"db\" + str(l)] = 1/m * np.sum(grads[\"dZ\" + str(l)], axis = 1, keepdims = True)\n",
    "\n",
    "    return grads"
   ]
  },
  {
   "cell_type": "code",
   "execution_count": 7,
   "id": "48f9b7b2",
   "metadata": {},
   "outputs": [],
   "source": [
    "def update_parameters(parameters, grads, learning_rate):\n",
    "\n",
    "    L = len(parameters) // 2 \n",
    "    \n",
    "    for l in range(L):\n",
    "        parameters[\"W\" + str(l+1)] = parameters[\"W\" + str(l+1)] - learning_rate * grads[\"dW\" + str(l+1)]\n",
    "        parameters[\"b\" + str(l+1)] = parameters[\"b\" + str(l+1)] - learning_rate * grads[\"db\" + str(l+1)]\n",
    "        \n",
    "    return parameters"
   ]
  },
  {
   "cell_type": "code",
   "execution_count": 8,
   "id": "2db9d118",
   "metadata": {},
   "outputs": [],
   "source": [
    "def acc(X, y, parameters):\n",
    "    \n",
    "    y_pred, caches = forward_propagation(X, parameters, relu)  \n",
    "    y = np.argmax(y, 0)\n",
    "    y_pred = np.argmax(y_pred, 0)\n",
    "    return y_pred,np.round(np.mean(y_pred == y),4)"
   ]
  },
  {
   "cell_type": "code",
   "execution_count": 9,
   "id": "02d3b003",
   "metadata": {},
   "outputs": [],
   "source": [
    "def model(X, Y, layers_dims, learning_rate = 0.009, activation = 'relu', num_iterations = 3000):\n",
    "\n",
    "    np.random.seed(1)   \n",
    "    parameters = initialize_parameters(layers_dims)\n",
    "    for i in range(0, num_iterations):\n",
    "        \n",
    "        AL, forward_cache = forward_propagation(X, parameters, activation)\n",
    "        cost = compute_cost(AL, Y)\n",
    "        grads = backward_propagation(AL, Y, parameters, forward_cache, activation)\n",
    "        parameters = update_parameters(parameters, grads, learning_rate)\n",
    "        \n",
    "        if i % (num_iterations/10) == 0:\n",
    "            print(f\"\\nIterations:{i} \\t cost: {cost} \\t train_acc:{acc(X,Y,parameters)[1]} \\t test_acc:{acc(x_cv,y_cv,parameters)[1]}\")\n",
    "        if i%(10) ==0:     \n",
    "            print('==',end='')\n",
    "    print(f\"\\nfinal_cost:{compute_cost(AL,Y)},\\t  train_acc:{acc(X,Y,parameters)[1]}\\t test_acc:{acc(x_cv,y_cv,parameters)[1]}\")\n",
    "       \n",
    "    return parameters"
   ]
  },
  {
   "cell_type": "code",
   "execution_count": 10,
   "id": "a5770d33",
   "metadata": {},
   "outputs": [],
   "source": [
    "def one_hot_encode(y,num_classes):\n",
    "    y_train=np.zeros((y.shape[0],num_classes))\n",
    "    for i in range(num_classes):\n",
    "        for j in range(y.shape[0]):\n",
    "            if y[j]==i:\n",
    "                y_train[j,i]=1                       \n",
    "    return y_train"
   ]
  },
  {
   "cell_type": "markdown",
   "id": "d391cda2",
   "metadata": {},
   "source": [
    "# Load Data"
   ]
  },
  {
   "cell_type": "code",
   "execution_count": 16,
   "id": "1e178ed2",
   "metadata": {},
   "outputs": [],
   "source": [
    "df=pd.read_csv('Classification_train.csv')\n",
    "z=np.array(df.head(25000))\n",
    "y=z[:,0]\n",
    "x=z[:,1:]\n",
    "y_train=one_hot_encode(y,10).T\n",
    "x_train=x.T/255\n",
    "z_=np.array(df.tail(5000))\n",
    "x_cv=z_[:,1:].T/255\n",
    "y_cv=one_hot_encode(z_[:,0],10).T"
   ]
  },
  {
   "cell_type": "code",
   "execution_count": 17,
   "id": "7cdd1d3b",
   "metadata": {},
   "outputs": [],
   "source": [
    "layer_dims=[x_train.shape[0],16,16,10]  "
   ]
  },
  {
   "cell_type": "markdown",
   "id": "0b08467d",
   "metadata": {},
   "source": [
    "# Fit Data"
   ]
  },
  {
   "cell_type": "code",
   "execution_count": 18,
   "id": "74e7e987",
   "metadata": {},
   "outputs": [
    {
     "name": "stdout",
     "output_type": "stream",
     "text": [
      "\n",
      "Iterations:0 \t cost: 2.2941250461146985 \t train_acc:0.1395 \t test_acc:0.143\n",
      "==================================================\n",
      "Iterations:250 \t cost: 0.21132851807147224 \t train_acc:0.9427 \t test_acc:0.9406\n",
      "==================================================\n",
      "Iterations:500 \t cost: 0.14234052904416367 \t train_acc:0.961 \t test_acc:0.958\n",
      "==================================================\n",
      "Iterations:750 \t cost: 0.11679970136893345 \t train_acc:0.9677 \t test_acc:0.9624\n",
      "==================================================\n",
      "Iterations:1000 \t cost: 0.10146925610468911 \t train_acc:0.9717 \t test_acc:0.9656\n",
      "==================================================\n",
      "Iterations:1250 \t cost: 0.09071728931391142 \t train_acc:0.9744 \t test_acc:0.9676\n",
      "==================================================\n",
      "Iterations:1500 \t cost: 0.08239837071539026 \t train_acc:0.9775 \t test_acc:0.9696\n",
      "==================================================\n",
      "Iterations:1750 \t cost: 0.0755360492649674 \t train_acc:0.9794 \t test_acc:0.972\n",
      "==================================================\n",
      "Iterations:2000 \t cost: 0.06968432416497312 \t train_acc:0.9808 \t test_acc:0.972\n",
      "==================================================\n",
      "Iterations:2250 \t cost: 0.06458535390424562 \t train_acc:0.9826 \t test_acc:0.9734\n",
      "==================================================\n",
      "final_cost:0.060158217216550514,\t  train_acc:0.984\t test_acc:0.9742\n"
     ]
    }
   ],
   "source": [
    "params=model(x_train,y_train,layer_dims,0.1,relu,2500) "
   ]
  },
  {
   "cell_type": "markdown",
   "id": "bb64dc39",
   "metadata": {},
   "source": [
    "# Load Test data"
   ]
  },
  {
   "cell_type": "code",
   "execution_count": 19,
   "id": "52510ef4",
   "metadata": {},
   "outputs": [],
   "source": [
    "td=pd.read_csv('Classification_test.csv')\n",
    "td=np.array(td)\n",
    "ID=td[:,0]\n",
    "x_test=td[:,1:].T/255"
   ]
  },
  {
   "cell_type": "code",
   "execution_count": 20,
   "id": "c2f80cab",
   "metadata": {},
   "outputs": [],
   "source": [
    "def predict(x,parameters):\n",
    "    y_pred,info=forward_propagation(x,parameters,relu)\n",
    "    return np.argmax(y_pred,axis=0)"
   ]
  },
  {
   "cell_type": "markdown",
   "id": "f6b09942",
   "metadata": {},
   "source": [
    "# Predicting Test data\n"
   ]
  },
  {
   "cell_type": "code",
   "execution_count": 21,
   "id": "0c75f845",
   "metadata": {},
   "outputs": [],
   "source": [
    "y_test_pred=predict(x_test,params)\n",
    "\n",
    "result=np.c_[ID,y_test_pred]\n",
    "\n",
    "result=pd.DataFrame(result,columns=['ID','Y_Predicted'])"
   ]
  },
  {
   "cell_type": "code",
   "execution_count": 22,
   "id": "1b5b9671",
   "metadata": {},
   "outputs": [],
   "source": [
    "result.to_csv('Neural_pred')"
   ]
  },
  {
   "cell_type": "code",
   "execution_count": null,
   "id": "1bb34184",
   "metadata": {},
   "outputs": [],
   "source": []
  }
 ],
 "metadata": {
  "kernelspec": {
   "display_name": "Python 3 (ipykernel)",
   "language": "python",
   "name": "python3"
  },
  "language_info": {
   "codemirror_mode": {
    "name": "ipython",
    "version": 3
   },
   "file_extension": ".py",
   "mimetype": "text/x-python",
   "name": "python",
   "nbconvert_exporter": "python",
   "pygments_lexer": "ipython3",
   "version": "3.11.5"
  }
 },
 "nbformat": 4,
 "nbformat_minor": 5
}
