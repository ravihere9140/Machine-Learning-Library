{
 "cells": [
  {
   "cell_type": "code",
   "execution_count": 1,
   "id": "1223c924",
   "metadata": {},
   "outputs": [],
   "source": [
    "import numpy as np\n",
    "import pandas as pd\n",
    "import matplotlib.pyplot as plt"
   ]
  },
  {
   "cell_type": "markdown",
   "id": "856ff0f9",
   "metadata": {},
   "source": [
    "# Functions"
   ]
  },
  {
   "cell_type": "code",
   "execution_count": 2,
   "id": "1b11a056",
   "metadata": {},
   "outputs": [],
   "source": [
    "def softmax(z):\n",
    "    max_z = np.max(z, axis=1,keepdims=True)  # Find maximum along each row\n",
    "    z_shifted = z - max_z  # Subtract the maximum for numerical stability\n",
    "    exp_z = np.exp(z_shifted)\n",
    "    sum_exp_z = np.sum(exp_z, axis=1,keepdims=True )\n",
    "    softmax = exp_z / sum_exp_z\n",
    "\n",
    "    return softmax"
   ]
  },
  {
   "cell_type": "code",
   "execution_count": 3,
   "id": "cf230430",
   "metadata": {},
   "outputs": [],
   "source": [
    "def one_hot_encode(y,num_classes):\n",
    "    y_train=np.zeros((y.shape[0],num_classes))\n",
    "    for i in range(num_classes):\n",
    "        for j in range(y.shape[0]):\n",
    "            if y[j]==i:\n",
    "                y_train[j,i]=1\n",
    "                       \n",
    "    return y_train"
   ]
  },
  {
   "cell_type": "code",
   "execution_count": 4,
   "id": "5dcb4a0b",
   "metadata": {},
   "outputs": [],
   "source": [
    "def log_cost(x,y,w,b):\n",
    "    # x (m,n)\n",
    "    # w (k,n)\n",
    "    #b (1,k)\n",
    "    #y (m,k) after one hot encoding\n",
    "    epsilon=1e-8\n",
    "    cost=0\n",
    "    m,n=x.shape\n",
    "    k=y.shape[1]\n",
    "    z=x.dot(w.T)+b # m,k\n",
    "    A=softmax(z)\n",
    "    cost=-1/m*np.sum(np.log(A+epsilon)*y)\n",
    "    \n",
    "    return cost"
   ]
  },
  {
   "cell_type": "code",
   "execution_count": 5,
   "id": "6f7d9e0e",
   "metadata": {},
   "outputs": [],
   "source": [
    "def log_grad(x,y,w,b):\n",
    "    z=x.dot(w.T)+b\n",
    "    A=softmax(z)\n",
    "    dj_dw=-(x.T.dot(y-A)).T\n",
    "    dj_db=np.sum((y-A),axis=0)\n",
    "    return dj_dw,dj_db"
   ]
  },
  {
   "cell_type": "code",
   "execution_count": 6,
   "id": "d58d171b",
   "metadata": {},
   "outputs": [],
   "source": [
    "def grad_descent(x,y,w_in,b_in,cost_func,grad_func,alpha,iterations):\n",
    "    w=w_in\n",
    "    b=b_in\n",
    "    j_hist=[]\n",
    "    \n",
    "    for i in range(iterations):\n",
    "        dj_dw,dj_db=grad_func(x,y,w,b)\n",
    "        \n",
    "        w=w-alpha*dj_dw\n",
    "        b=b-alpha*dj_db\n",
    "        \n",
    "        if i <100000:\n",
    "            j_hist.append(cost_func(x,y,w,b))\n",
    "            \n",
    "        if i%np.ceil(iterations/20)==0:\n",
    "            print(f\"Iteration {i:4d}: cost:{j_hist[-1]:8.12f}\")\n",
    "    print(f'final_cost:{j_hist[-1]}')       \n",
    "    return w,b,j_hist"
   ]
  },
  {
   "cell_type": "markdown",
   "id": "5eecf4e5",
   "metadata": {},
   "source": [
    "# Load Data"
   ]
  },
  {
   "cell_type": "code",
   "execution_count": 7,
   "id": "f4cc2eab",
   "metadata": {},
   "outputs": [],
   "source": [
    "df=pd.read_csv('Classification_train.csv')\n",
    "z=np.array(df.head(25000))\n",
    "y=z[:,0]\n",
    "x=z[:,1:]\n",
    "y_train=one_hot_encode(y,10)\n",
    "x_train=x/255\n",
    "cv=np.array(df.tail(5000))\n",
    "x_cv=cv[:,1:]/255\n",
    "y_cv=cv[:,0]"
   ]
  },
  {
   "cell_type": "markdown",
   "id": "3218f89f",
   "metadata": {},
   "source": [
    "# Fit data"
   ]
  },
  {
   "cell_type": "code",
   "execution_count": 8,
   "id": "ac02f5ec",
   "metadata": {
    "scrolled": true
   },
   "outputs": [
    {
     "name": "stdout",
     "output_type": "stream",
     "text": [
      "Iteration    0: cost:1.767620229515\n",
      "Iteration  100: cost:0.221810827207\n",
      "Iteration  200: cost:0.179314581608\n",
      "Iteration  300: cost:0.160382943405\n",
      "Iteration  400: cost:0.148946848679\n",
      "Iteration  500: cost:0.141053520747\n",
      "Iteration  600: cost:0.135188738752\n",
      "Iteration  700: cost:0.130628051327\n",
      "Iteration  800: cost:0.126974174991\n",
      "Iteration  900: cost:0.123988142837\n",
      "Iteration 1000: cost:0.121516307445\n",
      "Iteration 1100: cost:0.119454800811\n",
      "Iteration 1200: cost:0.117730650006\n",
      "Iteration 1300: cost:0.116291049890\n",
      "Iteration 1400: cost:0.115096933640\n",
      "Iteration 1500: cost:0.114118939597\n",
      "Iteration 1600: cost:0.113334778207\n",
      "Iteration 1700: cost:0.112727451892\n",
      "Iteration 1800: cost:0.112284014781\n",
      "Iteration 1900: cost:0.111994685921\n",
      "final_cost:0.11185291724162623\n",
      "w_final,b_final found by grad descent (array([[0., 0., 0., ..., 0., 0., 0.],\n",
      "       [0., 0., 0., ..., 0., 0., 0.],\n",
      "       [0., 0., 0., ..., 0., 0., 0.],\n",
      "       ...,\n",
      "       [0., 0., 0., ..., 0., 0., 0.],\n",
      "       [0., 0., 0., ..., 0., 0., 0.],\n",
      "       [0., 0., 0., ..., 0., 0., 0.]]), array([[ 2.56371514, -2.69238885, -0.1328288 ,  1.27419497,  0.16719368,\n",
      "         3.66054617, -3.48542648,  0.62346275, -0.66032065, -1.31814794]]))\n"
     ]
    }
   ],
   "source": [
    "m,n=x_train.shape\n",
    "m,k=y_train.shape\n",
    "w_in=np.zeros((k,n))\n",
    "b_in= np.zeros((1,k))\n",
    "alpha=3e-5\n",
    "iterations=2000\n",
    "w_f,b_f,j_hist= grad_descent(x_train,y_train,w_in,b_in,log_cost,log_grad,alpha,iterations)\n",
    "print(f'w_final,b_final found by grad descent {w_f,b_f}')"
   ]
  },
  {
   "cell_type": "code",
   "execution_count": 9,
   "id": "b7fbd2fc",
   "metadata": {},
   "outputs": [
    {
     "data": {
      "image/png": "[encoded data removed]",
      "text/plain": [
       "<Figure size 640x480 with 1 Axes>"
      ]
     },
     "metadata": {},
     "output_type": "display_data"
    }
   ],
   "source": [
    "def iter_v_cost(iterations,j_hist):\n",
    "    plt.plot(np.arange(iterations),j_hist)\n",
    "    plt.xlabel('Iterations')\n",
    "    plt.ylabel('Cost')\n",
    "    plt.show()\n",
    "\n",
    "iter_v_cost(iterations,j_hist)"
   ]
  },
  {
   "cell_type": "code",
   "execution_count": 10,
   "id": "69a87232",
   "metadata": {},
   "outputs": [
    {
     "name": "stdout",
     "output_type": "stream",
     "text": [
      "Accuracy_train:0.96968\n",
      "Missclassified:759.0\n",
      "Accuracy_cv:0.96\n"
     ]
    }
   ],
   "source": [
    "def predict(x,w,b):\n",
    "    z=x.dot(w.T)+b\n",
    "    A=softmax(z)\n",
    "    yp=np.argmax(A,axis=1)\n",
    "    return yp\n",
    "\n",
    "def acc(y,yp):\n",
    "    return np.mean(y==yp)\n",
    "\n",
    "yp=predict(x_train,w_f,b_f)\n",
    "print(f'Accuracy_train:{acc(y,yp)}')\n",
    "print(f'Missclassified:{np.ceil((1-acc(y,yp))*y.shape[0])}')\n",
    "\n",
    "yp_cv=predict(x_cv,w_f,b_f)\n",
    "print(f'Accuracy_cv:{acc(yp_cv,y_cv)}')\n"
   ]
  },
  {
   "cell_type": "code",
   "execution_count": 14,
   "id": "b3b4f5f4",
   "metadata": {
    "scrolled": true
   },
   "outputs": [
    {
     "name": "stdout",
     "output_type": "stream",
     "text": [
      "Confusion Matrix:\n"
     ]
    },
    {
     "data": {
      "text/html": [
       "<div>\n",
       "<style scoped>\n",
       "    .dataframe tbody tr th:only-of-type {\n",
       "        vertical-align: middle;\n",
       "    }\n",
       "\n",
       "    .dataframe tbody tr th {\n",
       "        vertical-align: top;\n",
       "    }\n",
       "\n",
       "    .dataframe thead th {\n",
       "        text-align: right;\n",
       "    }\n",
       "</style>\n",
       "<table border=\"1\" class=\"dataframe\">\n",
       "  <thead>\n",
       "    <tr style=\"text-align: right;\">\n",
       "      <th></th>\n",
       "      <th>0</th>\n",
       "      <th>1</th>\n",
       "      <th>2</th>\n",
       "      <th>3</th>\n",
       "      <th>4</th>\n",
       "      <th>5</th>\n",
       "      <th>6</th>\n",
       "      <th>7</th>\n",
       "      <th>8</th>\n",
       "      <th>9</th>\n",
       "    </tr>\n",
       "  </thead>\n",
       "  <tbody>\n",
       "    <tr>\n",
       "      <th>0</th>\n",
       "      <td>2420.0</td>\n",
       "      <td>56.0</td>\n",
       "      <td>0.0</td>\n",
       "      <td>10.0</td>\n",
       "      <td>2.0</td>\n",
       "      <td>0.0</td>\n",
       "      <td>3.0</td>\n",
       "      <td>4.0</td>\n",
       "      <td>8.0</td>\n",
       "      <td>1.0</td>\n",
       "    </tr>\n",
       "    <tr>\n",
       "      <th>1</th>\n",
       "      <td>23.0</td>\n",
       "      <td>2441.0</td>\n",
       "      <td>0.0</td>\n",
       "      <td>12.0</td>\n",
       "      <td>1.0</td>\n",
       "      <td>14.0</td>\n",
       "      <td>2.0</td>\n",
       "      <td>3.0</td>\n",
       "      <td>2.0</td>\n",
       "      <td>5.0</td>\n",
       "    </tr>\n",
       "    <tr>\n",
       "      <th>2</th>\n",
       "      <td>8.0</td>\n",
       "      <td>1.0</td>\n",
       "      <td>2405.0</td>\n",
       "      <td>5.0</td>\n",
       "      <td>0.0</td>\n",
       "      <td>1.0</td>\n",
       "      <td>0.0</td>\n",
       "      <td>1.0</td>\n",
       "      <td>1.0</td>\n",
       "      <td>0.0</td>\n",
       "    </tr>\n",
       "    <tr>\n",
       "      <th>3</th>\n",
       "      <td>20.0</td>\n",
       "      <td>1.0</td>\n",
       "      <td>3.0</td>\n",
       "      <td>2379.0</td>\n",
       "      <td>12.0</td>\n",
       "      <td>17.0</td>\n",
       "      <td>13.0</td>\n",
       "      <td>34.0</td>\n",
       "      <td>1.0</td>\n",
       "      <td>4.0</td>\n",
       "    </tr>\n",
       "    <tr>\n",
       "      <th>4</th>\n",
       "      <td>0.0</td>\n",
       "      <td>0.0</td>\n",
       "      <td>0.0</td>\n",
       "      <td>10.0</td>\n",
       "      <td>2561.0</td>\n",
       "      <td>21.0</td>\n",
       "      <td>1.0</td>\n",
       "      <td>5.0</td>\n",
       "      <td>4.0</td>\n",
       "      <td>6.0</td>\n",
       "    </tr>\n",
       "    <tr>\n",
       "      <th>5</th>\n",
       "      <td>1.0</td>\n",
       "      <td>3.0</td>\n",
       "      <td>4.0</td>\n",
       "      <td>17.0</td>\n",
       "      <td>17.0</td>\n",
       "      <td>2450.0</td>\n",
       "      <td>1.0</td>\n",
       "      <td>1.0</td>\n",
       "      <td>3.0</td>\n",
       "      <td>2.0</td>\n",
       "    </tr>\n",
       "    <tr>\n",
       "      <th>6</th>\n",
       "      <td>0.0</td>\n",
       "      <td>0.0</td>\n",
       "      <td>0.0</td>\n",
       "      <td>15.0</td>\n",
       "      <td>3.0</td>\n",
       "      <td>6.0</td>\n",
       "      <td>2449.0</td>\n",
       "      <td>107.0</td>\n",
       "      <td>0.0</td>\n",
       "      <td>8.0</td>\n",
       "    </tr>\n",
       "    <tr>\n",
       "      <th>7</th>\n",
       "      <td>9.0</td>\n",
       "      <td>0.0</td>\n",
       "      <td>0.0</td>\n",
       "      <td>50.0</td>\n",
       "      <td>13.0</td>\n",
       "      <td>9.0</td>\n",
       "      <td>80.0</td>\n",
       "      <td>2279.0</td>\n",
       "      <td>1.0</td>\n",
       "      <td>4.0</td>\n",
       "    </tr>\n",
       "    <tr>\n",
       "      <th>8</th>\n",
       "      <td>10.0</td>\n",
       "      <td>1.0</td>\n",
       "      <td>2.0</td>\n",
       "      <td>5.0</td>\n",
       "      <td>1.0</td>\n",
       "      <td>8.0</td>\n",
       "      <td>2.0</td>\n",
       "      <td>0.0</td>\n",
       "      <td>2437.0</td>\n",
       "      <td>2.0</td>\n",
       "    </tr>\n",
       "    <tr>\n",
       "      <th>9</th>\n",
       "      <td>2.0</td>\n",
       "      <td>0.0</td>\n",
       "      <td>0.0</td>\n",
       "      <td>2.0</td>\n",
       "      <td>23.0</td>\n",
       "      <td>2.0</td>\n",
       "      <td>16.0</td>\n",
       "      <td>8.0</td>\n",
       "      <td>5.0</td>\n",
       "      <td>2421.0</td>\n",
       "    </tr>\n",
       "  </tbody>\n",
       "</table>\n",
       "</div>"
      ],
      "text/plain": [
       "        0       1       2       3       4       5       6       7       8  \\\n",
       "0  2420.0    56.0     0.0    10.0     2.0     0.0     3.0     4.0     8.0   \n",
       "1    23.0  2441.0     0.0    12.0     1.0    14.0     2.0     3.0     2.0   \n",
       "2     8.0     1.0  2405.0     5.0     0.0     1.0     0.0     1.0     1.0   \n",
       "3    20.0     1.0     3.0  2379.0    12.0    17.0    13.0    34.0     1.0   \n",
       "4     0.0     0.0     0.0    10.0  2561.0    21.0     1.0     5.0     4.0   \n",
       "5     1.0     3.0     4.0    17.0    17.0  2450.0     1.0     1.0     3.0   \n",
       "6     0.0     0.0     0.0    15.0     3.0     6.0  2449.0   107.0     0.0   \n",
       "7     9.0     0.0     0.0    50.0    13.0     9.0    80.0  2279.0     1.0   \n",
       "8    10.0     1.0     2.0     5.0     1.0     8.0     2.0     0.0  2437.0   \n",
       "9     2.0     0.0     0.0     2.0    23.0     2.0    16.0     8.0     5.0   \n",
       "\n",
       "        9  \n",
       "0     1.0  \n",
       "1     5.0  \n",
       "2     0.0  \n",
       "3     4.0  \n",
       "4     6.0  \n",
       "5     2.0  \n",
       "6     8.0  \n",
       "7     4.0  \n",
       "8     2.0  \n",
       "9  2421.0  "
      ]
     },
     "execution_count": 14,
     "metadata": {},
     "output_type": "execute_result"
    }
   ],
   "source": [
    "def cnf_mat(y,yp,num_class):\n",
    "    cm=np.zeros((k,k))\n",
    "    for i in range(y.shape[0]):\n",
    "        if y[i]==yp[i]:\n",
    "            cm[y[i],y[i]]+=1\n",
    "        if y[i]!=yp[i]:\n",
    "            cm[y[i],yp[i]]+=1\n",
    "    return cm\n",
    "\n",
    "cm=cnf_mat(y,yp,10)\n",
    "\n",
    "cm_df=pd.DataFrame(cm)\n",
    "print('Confusion Matrix:')\n",
    "cm_df"
   ]
  },
  {
   "cell_type": "markdown",
   "id": "1a904a52",
   "metadata": {},
   "source": [
    "# F1_score"
   ]
  },
  {
   "cell_type": "code",
   "execution_count": 15,
   "id": "0f7359f5",
   "metadata": {},
   "outputs": [],
   "source": [
    "def f1score(cm):\n",
    "    k=cm.shape[0]\n",
    "    prec=np.zeros((k))\n",
    "    rec=np.zeros((k))\n",
    "    t0=np.sum(cm,axis=0)\n",
    "    t1=np.sum(cm,axis=1)\n",
    "    f1=np.zeros((k))\n",
    "    for i in range(k):\n",
    "        prec[i]=cm[i,i]/t0[i]\n",
    "    for j in range(k):\n",
    "        rec[j]=cm[j,j]/t1[j]\n",
    "    \n",
    "    for t in range(k):\n",
    "        f1[t]=2*prec[t]*rec[t]/(prec[t]+rec[t])\n",
    "        \n",
    "    f1_score=np.mean(f1)\n",
    "    \n",
    "    return f1_score,prec,rec"
   ]
  },
  {
   "cell_type": "code",
   "execution_count": 16,
   "id": "ecfb094d",
   "metadata": {},
   "outputs": [
    {
     "name": "stdout",
     "output_type": "stream",
     "text": [
      "f1_score_train:0.9697380320763462\n"
     ]
    }
   ],
   "source": [
    "f1_score,P,R=f1score(cm)\n",
    "print(f'f1_score_train:{f1_score}')"
   ]
  },
  {
   "cell_type": "markdown",
   "id": "08f26ce9",
   "metadata": {},
   "source": [
    "# Load Test_data"
   ]
  },
  {
   "cell_type": "code",
   "execution_count": 17,
   "id": "a9e4a2f1",
   "metadata": {},
   "outputs": [],
   "source": [
    "td=pd.read_csv('Classification_test.csv')\n",
    "td=np.array(td)\n",
    "x_test=td[:,1:]/255\n",
    "ID=td[:,0]"
   ]
  },
  {
   "cell_type": "code",
   "execution_count": 18,
   "id": "c064cbcc",
   "metadata": {},
   "outputs": [],
   "source": [
    "y_test_pred=predict(x_test,w_f,b_f)"
   ]
  },
  {
   "cell_type": "code",
   "execution_count": 19,
   "id": "7f2e4ec2",
   "metadata": {},
   "outputs": [
    {
     "data": {
      "text/html": [
       "<div>\n",
       "<style scoped>\n",
       "    .dataframe tbody tr th:only-of-type {\n",
       "        vertical-align: middle;\n",
       "    }\n",
       "\n",
       "    .dataframe tbody tr th {\n",
       "        vertical-align: top;\n",
       "    }\n",
       "\n",
       "    .dataframe thead th {\n",
       "        text-align: right;\n",
       "    }\n",
       "</style>\n",
       "<table border=\"1\" class=\"dataframe\">\n",
       "  <thead>\n",
       "    <tr style=\"text-align: right;\">\n",
       "      <th></th>\n",
       "      <th>ID</th>\n",
       "      <th>Y_predicted</th>\n",
       "    </tr>\n",
       "  </thead>\n",
       "  <tbody>\n",
       "    <tr>\n",
       "      <th>0</th>\n",
       "      <td>15795</td>\n",
       "      <td>0</td>\n",
       "    </tr>\n",
       "    <tr>\n",
       "      <th>1</th>\n",
       "      <td>860</td>\n",
       "      <td>4</td>\n",
       "    </tr>\n",
       "    <tr>\n",
       "      <th>2</th>\n",
       "      <td>5390</td>\n",
       "      <td>5</td>\n",
       "    </tr>\n",
       "    <tr>\n",
       "      <th>3</th>\n",
       "      <td>11964</td>\n",
       "      <td>5</td>\n",
       "    </tr>\n",
       "    <tr>\n",
       "      <th>4</th>\n",
       "      <td>11284</td>\n",
       "      <td>6</td>\n",
       "    </tr>\n",
       "    <tr>\n",
       "      <th>...</th>\n",
       "      <td>...</td>\n",
       "      <td>...</td>\n",
       "    </tr>\n",
       "    <tr>\n",
       "      <th>9995</th>\n",
       "      <td>11260</td>\n",
       "      <td>9</td>\n",
       "    </tr>\n",
       "    <tr>\n",
       "      <th>9996</th>\n",
       "      <td>18563</td>\n",
       "      <td>9</td>\n",
       "    </tr>\n",
       "    <tr>\n",
       "      <th>9997</th>\n",
       "      <td>634</td>\n",
       "      <td>0</td>\n",
       "    </tr>\n",
       "    <tr>\n",
       "      <th>9998</th>\n",
       "      <td>10057</td>\n",
       "      <td>8</td>\n",
       "    </tr>\n",
       "    <tr>\n",
       "      <th>9999</th>\n",
       "      <td>13345</td>\n",
       "      <td>2</td>\n",
       "    </tr>\n",
       "  </tbody>\n",
       "</table>\n",
       "<p>10000 rows × 2 columns</p>\n",
       "</div>"
      ],
      "text/plain": [
       "         ID  Y_predicted\n",
       "0     15795            0\n",
       "1       860            4\n",
       "2      5390            5\n",
       "3     11964            5\n",
       "4     11284            6\n",
       "...     ...          ...\n",
       "9995  11260            9\n",
       "9996  18563            9\n",
       "9997    634            0\n",
       "9998  10057            8\n",
       "9999  13345            2\n",
       "\n",
       "[10000 rows x 2 columns]"
      ]
     },
     "execution_count": 19,
     "metadata": {},
     "output_type": "execute_result"
    }
   ],
   "source": [
    "result=np.c_[ID,y_test_pred]\n",
    "result=pd.DataFrame(result,columns=['ID','Y_predicted'])\n",
    "result"
   ]
  },
  {
   "cell_type": "code",
   "execution_count": 38,
   "id": "0efb7f57",
   "metadata": {},
   "outputs": [],
   "source": [
    "result.to_csv('Logistic_predcition.csv')"
   ]
  },
  {
   "cell_type": "code",
   "execution_count": null,
   "id": "c0f21a49",
   "metadata": {},
   "outputs": [],
   "source": []
  }
 ],
 "metadata": {
  "kernelspec": {
   "display_name": "Python 3 (ipykernel)",
   "language": "python",
   "name": "python3"
  },
  "language_info": {
   "codemirror_mode": {
    "name": "ipython",
    "version": 3
   },
   "file_extension": ".py",
   "mimetype": "text/x-python",
   "name": "python",
   "nbconvert_exporter": "python",
   "pygments_lexer": "ipython3",
   "version": "3.11.5"
  }
 },
 "nbformat": 4,
 "nbformat_minor": 5
}
